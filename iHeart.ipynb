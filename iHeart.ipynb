{
 "cells": [
  {
   "cell_type": "code",
   "execution_count": 1,
   "metadata": {
    "collapsed": true
   },
   "outputs": [],
   "source": [
    "import pandas as pd\n",
    "import matplotlib.pyplot as plt\n",
    "import numpy as np\n",
    "%matplotlib inline"
   ]
  },
  {
   "cell_type": "code",
   "execution_count": 2,
   "metadata": {
    "collapsed": true
   },
   "outputs": [],
   "source": [
    "dir_data = '/Users/Sally/Downloads/users.tsv'\n",
    "dir_data_listens = '/Users/Sally/Downloads/listens.tsv'\n",
    "dir_data_artists = '/Users/Sally/Downloads/artists.tsv'"
   ]
  },
  {
   "cell_type": "code",
   "execution_count": 3,
   "metadata": {
    "collapsed": true
   },
   "outputs": [],
   "source": [
    "# load the users file\n",
    "df_user = pd.read_table(dir_data, delim_whitespace = True,header = 0)"
   ]
  },
  {
   "cell_type": "code",
   "execution_count": 4,
   "metadata": {
    "collapsed": false
   },
   "outputs": [
    {
     "name": "stdout",
     "output_type": "stream",
     "text": [
      "(161803, 3)\n"
     ]
    },
    {
     "data": {
      "text/html": [
       "<div>\n",
       "<table border=\"1\" class=\"dataframe\">\n",
       "  <thead>\n",
       "    <tr style=\"text-align: right;\">\n",
       "      <th></th>\n",
       "      <th>profile_id</th>\n",
       "      <th>gender</th>\n",
       "      <th>age</th>\n",
       "    </tr>\n",
       "  </thead>\n",
       "  <tbody>\n",
       "    <tr>\n",
       "      <th>0</th>\n",
       "      <td>705421135523430100</td>\n",
       "      <td>MALE</td>\n",
       "      <td>47.0</td>\n",
       "    </tr>\n",
       "    <tr>\n",
       "      <th>1</th>\n",
       "      <td>71059973023428203</td>\n",
       "      <td>FEMALE</td>\n",
       "      <td>25.0</td>\n",
       "    </tr>\n",
       "    <tr>\n",
       "      <th>2</th>\n",
       "      <td>-6360016762317810524</td>\n",
       "      <td>NaN</td>\n",
       "      <td>NaN</td>\n",
       "    </tr>\n",
       "    <tr>\n",
       "      <th>3</th>\n",
       "      <td>-1426993141676116040</td>\n",
       "      <td>FEMALE</td>\n",
       "      <td>28.0</td>\n",
       "    </tr>\n",
       "    <tr>\n",
       "      <th>4</th>\n",
       "      <td>3819441980848568684</td>\n",
       "      <td>FEMALE</td>\n",
       "      <td>NaN</td>\n",
       "    </tr>\n",
       "  </tbody>\n",
       "</table>\n",
       "</div>"
      ],
      "text/plain": [
       "            profile_id  gender   age\n",
       "0   705421135523430100    MALE  47.0\n",
       "1    71059973023428203  FEMALE  25.0\n",
       "2 -6360016762317810524     NaN   NaN\n",
       "3 -1426993141676116040  FEMALE  28.0\n",
       "4  3819441980848568684  FEMALE   NaN"
      ]
     },
     "execution_count": 4,
     "metadata": {},
     "output_type": "execute_result"
    }
   ],
   "source": [
    "print df_user.shape \n",
    "df_user.head()"
   ]
  },
  {
   "cell_type": "markdown",
   "metadata": {},
   "source": [
    "#### Q1        the number of users is : 161803"
   ]
  },
  {
   "cell_type": "code",
   "execution_count": 5,
   "metadata": {
    "collapsed": true
   },
   "outputs": [],
   "source": [
    "# load the listens file\n",
    "lst_colNames = ['profile_id', 'listen_date','artist_id', 'tracks_listened_to']\n",
    "df_listens = pd.read_table(dir_data_listens, delim_whitespace = True,header = 0, names = lst_colNames)"
   ]
  },
  {
   "cell_type": "code",
   "execution_count": 6,
   "metadata": {
    "collapsed": false
   },
   "outputs": [
    {
     "name": "stdout",
     "output_type": "stream",
     "text": [
      "(1768890, 4)\n"
     ]
    },
    {
     "data": {
      "text/html": [
       "<div>\n",
       "<table border=\"1\" class=\"dataframe\">\n",
       "  <thead>\n",
       "    <tr style=\"text-align: right;\">\n",
       "      <th></th>\n",
       "      <th>profile_id</th>\n",
       "      <th>listen_date</th>\n",
       "      <th>artist_id</th>\n",
       "      <th>tracks_listened_to</th>\n",
       "    </tr>\n",
       "  </thead>\n",
       "  <tbody>\n",
       "    <tr>\n",
       "      <th>0</th>\n",
       "      <td>2003436360610857814</td>\n",
       "      <td>2015-03-09</td>\n",
       "      <td>-1085820820</td>\n",
       "      <td>8</td>\n",
       "    </tr>\n",
       "    <tr>\n",
       "      <th>1</th>\n",
       "      <td>-3545625624591374032</td>\n",
       "      <td>2015-03-05</td>\n",
       "      <td>1778133477</td>\n",
       "      <td>14</td>\n",
       "    </tr>\n",
       "    <tr>\n",
       "      <th>2</th>\n",
       "      <td>6568339127935072844</td>\n",
       "      <td>2015-03-18</td>\n",
       "      <td>-2129533997</td>\n",
       "      <td>8</td>\n",
       "    </tr>\n",
       "    <tr>\n",
       "      <th>3</th>\n",
       "      <td>-6913021035731886592</td>\n",
       "      <td>2015-03-16</td>\n",
       "      <td>-377304851</td>\n",
       "      <td>52</td>\n",
       "    </tr>\n",
       "    <tr>\n",
       "      <th>4</th>\n",
       "      <td>-610469227923144389</td>\n",
       "      <td>2015-03-29</td>\n",
       "      <td>318946303</td>\n",
       "      <td>10</td>\n",
       "    </tr>\n",
       "  </tbody>\n",
       "</table>\n",
       "</div>"
      ],
      "text/plain": [
       "            profile_id listen_date   artist_id  tracks_listened_to\n",
       "0  2003436360610857814  2015-03-09 -1085820820                   8\n",
       "1 -3545625624591374032  2015-03-05  1778133477                  14\n",
       "2  6568339127935072844  2015-03-18 -2129533997                   8\n",
       "3 -6913021035731886592  2015-03-16  -377304851                  52\n",
       "4  -610469227923144389  2015-03-29   318946303                  10"
      ]
     },
     "execution_count": 6,
     "metadata": {},
     "output_type": "execute_result"
    }
   ],
   "source": [
    "print df_listens.shape;\n",
    "df_listens.head()"
   ]
  },
  {
   "cell_type": "code",
   "execution_count": 7,
   "metadata": {
    "collapsed": true
   },
   "outputs": [],
   "source": [
    "# find the unique profile id in the 'listens' table\n",
    "active_user = pd.DataFrame({'profile_id':df_listens['profile_id'].unique()})"
   ]
  },
  {
   "cell_type": "code",
   "execution_count": 8,
   "metadata": {
    "collapsed": false
   },
   "outputs": [
    {
     "name": "stdout",
     "output_type": "stream",
     "text": [
      "(153115, 1)\n"
     ]
    },
    {
     "data": {
      "text/html": [
       "<div>\n",
       "<table border=\"1\" class=\"dataframe\">\n",
       "  <thead>\n",
       "    <tr style=\"text-align: right;\">\n",
       "      <th></th>\n",
       "      <th>profile_id</th>\n",
       "    </tr>\n",
       "  </thead>\n",
       "  <tbody>\n",
       "    <tr>\n",
       "      <th>0</th>\n",
       "      <td>2003436360610857814</td>\n",
       "    </tr>\n",
       "    <tr>\n",
       "      <th>1</th>\n",
       "      <td>-3545625624591374032</td>\n",
       "    </tr>\n",
       "    <tr>\n",
       "      <th>2</th>\n",
       "      <td>6568339127935072844</td>\n",
       "    </tr>\n",
       "    <tr>\n",
       "      <th>3</th>\n",
       "      <td>-6913021035731886592</td>\n",
       "    </tr>\n",
       "    <tr>\n",
       "      <th>4</th>\n",
       "      <td>-610469227923144389</td>\n",
       "    </tr>\n",
       "  </tbody>\n",
       "</table>\n",
       "</div>"
      ],
      "text/plain": [
       "            profile_id\n",
       "0  2003436360610857814\n",
       "1 -3545625624591374032\n",
       "2  6568339127935072844\n",
       "3 -6913021035731886592\n",
       "4  -610469227923144389"
      ]
     },
     "execution_count": 8,
     "metadata": {},
     "output_type": "execute_result"
    }
   ],
   "source": [
    "print active_user.shape\n",
    "active_user.head()"
   ]
  },
  {
   "cell_type": "markdown",
   "metadata": {},
   "source": [
    "#### Q1 the number of active users is : 153115"
   ]
  },
  {
   "cell_type": "code",
   "execution_count": 9,
   "metadata": {
    "collapsed": true
   },
   "outputs": [],
   "source": [
    "# join the active_user with the user\n",
    "merged_active_user = pd.merge(df_user, active_user, on = 'profile_id', how = 'inner')"
   ]
  },
  {
   "cell_type": "code",
   "execution_count": 10,
   "metadata": {
    "collapsed": false
   },
   "outputs": [
    {
     "data": {
      "text/html": [
       "<div>\n",
       "<table border=\"1\" class=\"dataframe\">\n",
       "  <thead>\n",
       "    <tr style=\"text-align: right;\">\n",
       "      <th></th>\n",
       "      <th>profile_id</th>\n",
       "      <th>gender</th>\n",
       "      <th>age</th>\n",
       "    </tr>\n",
       "  </thead>\n",
       "  <tbody>\n",
       "    <tr>\n",
       "      <th>0</th>\n",
       "      <td>705421135523430100</td>\n",
       "      <td>MALE</td>\n",
       "      <td>47.0</td>\n",
       "    </tr>\n",
       "    <tr>\n",
       "      <th>1</th>\n",
       "      <td>71059973023428203</td>\n",
       "      <td>FEMALE</td>\n",
       "      <td>25.0</td>\n",
       "    </tr>\n",
       "    <tr>\n",
       "      <th>2</th>\n",
       "      <td>-6360016762317810524</td>\n",
       "      <td>NaN</td>\n",
       "      <td>NaN</td>\n",
       "    </tr>\n",
       "    <tr>\n",
       "      <th>3</th>\n",
       "      <td>-1426993141676116040</td>\n",
       "      <td>FEMALE</td>\n",
       "      <td>28.0</td>\n",
       "    </tr>\n",
       "    <tr>\n",
       "      <th>4</th>\n",
       "      <td>3819441980848568684</td>\n",
       "      <td>FEMALE</td>\n",
       "      <td>NaN</td>\n",
       "    </tr>\n",
       "  </tbody>\n",
       "</table>\n",
       "</div>"
      ],
      "text/plain": [
       "            profile_id  gender   age\n",
       "0   705421135523430100    MALE  47.0\n",
       "1    71059973023428203  FEMALE  25.0\n",
       "2 -6360016762317810524     NaN   NaN\n",
       "3 -1426993141676116040  FEMALE  28.0\n",
       "4  3819441980848568684  FEMALE   NaN"
      ]
     },
     "execution_count": 10,
     "metadata": {},
     "output_type": "execute_result"
    }
   ],
   "source": [
    "merged_active_user.head()"
   ]
  },
  {
   "cell_type": "code",
   "execution_count": 11,
   "metadata": {
    "collapsed": false
   },
   "outputs": [
    {
     "data": {
      "text/plain": [
       "35.97484249682844"
      ]
     },
     "execution_count": 11,
     "metadata": {},
     "output_type": "execute_result"
    }
   ],
   "source": [
    "merged_active_user['age'].mean()"
   ]
  },
  {
   "cell_type": "markdown",
   "metadata": {},
   "source": [
    "#### Q2 the average age of active_users is : 35.97484249682844"
   ]
  },
  {
   "cell_type": "code",
   "execution_count": 12,
   "metadata": {
    "collapsed": true
   },
   "outputs": [],
   "source": [
    "# to find the inactive users' average age , left join the user with the active user table\n",
    "left_merge = pd.merge(df_user, merged_active_user, on = 'profile_id', how = 'left')"
   ]
  },
  {
   "cell_type": "code",
   "execution_count": 13,
   "metadata": {
    "collapsed": false
   },
   "outputs": [
    {
     "name": "stdout",
     "output_type": "stream",
     "text": [
      "(161803, 5)\n"
     ]
    },
    {
     "data": {
      "text/html": [
       "<div>\n",
       "<table border=\"1\" class=\"dataframe\">\n",
       "  <thead>\n",
       "    <tr style=\"text-align: right;\">\n",
       "      <th></th>\n",
       "      <th>profile_id</th>\n",
       "      <th>gender_x</th>\n",
       "      <th>age_x</th>\n",
       "      <th>gender_y</th>\n",
       "      <th>age_y</th>\n",
       "    </tr>\n",
       "  </thead>\n",
       "  <tbody>\n",
       "    <tr>\n",
       "      <th>0</th>\n",
       "      <td>705421135523430100</td>\n",
       "      <td>MALE</td>\n",
       "      <td>47.0</td>\n",
       "      <td>MALE</td>\n",
       "      <td>47.0</td>\n",
       "    </tr>\n",
       "    <tr>\n",
       "      <th>1</th>\n",
       "      <td>71059973023428203</td>\n",
       "      <td>FEMALE</td>\n",
       "      <td>25.0</td>\n",
       "      <td>FEMALE</td>\n",
       "      <td>25.0</td>\n",
       "    </tr>\n",
       "    <tr>\n",
       "      <th>2</th>\n",
       "      <td>-6360016762317810524</td>\n",
       "      <td>NaN</td>\n",
       "      <td>NaN</td>\n",
       "      <td>NaN</td>\n",
       "      <td>NaN</td>\n",
       "    </tr>\n",
       "    <tr>\n",
       "      <th>3</th>\n",
       "      <td>-1426993141676116040</td>\n",
       "      <td>FEMALE</td>\n",
       "      <td>28.0</td>\n",
       "      <td>FEMALE</td>\n",
       "      <td>28.0</td>\n",
       "    </tr>\n",
       "    <tr>\n",
       "      <th>4</th>\n",
       "      <td>3819441980848568684</td>\n",
       "      <td>FEMALE</td>\n",
       "      <td>NaN</td>\n",
       "      <td>FEMALE</td>\n",
       "      <td>NaN</td>\n",
       "    </tr>\n",
       "  </tbody>\n",
       "</table>\n",
       "</div>"
      ],
      "text/plain": [
       "            profile_id gender_x  age_x gender_y  age_y\n",
       "0   705421135523430100     MALE   47.0     MALE   47.0\n",
       "1    71059973023428203   FEMALE   25.0   FEMALE   25.0\n",
       "2 -6360016762317810524      NaN    NaN      NaN    NaN\n",
       "3 -1426993141676116040   FEMALE   28.0   FEMALE   28.0\n",
       "4  3819441980848568684   FEMALE    NaN   FEMALE    NaN"
      ]
     },
     "execution_count": 13,
     "metadata": {},
     "output_type": "execute_result"
    }
   ],
   "source": [
    "print left_merge.shape\n",
    "left_merge.head()"
   ]
  },
  {
   "cell_type": "code",
   "execution_count": 14,
   "metadata": {
    "collapsed": false
   },
   "outputs": [
    {
     "data": {
      "text/html": [
       "<div>\n",
       "<table border=\"1\" class=\"dataframe\">\n",
       "  <thead>\n",
       "    <tr style=\"text-align: right;\">\n",
       "      <th></th>\n",
       "      <th>profile_id</th>\n",
       "      <th>gender_x</th>\n",
       "      <th>age_x</th>\n",
       "      <th>gender_y</th>\n",
       "      <th>age_y</th>\n",
       "    </tr>\n",
       "  </thead>\n",
       "  <tbody>\n",
       "    <tr>\n",
       "      <th>0</th>\n",
       "      <td>705421135523430100</td>\n",
       "      <td>MALE</td>\n",
       "      <td>47.0</td>\n",
       "      <td>MALE</td>\n",
       "      <td>47.0</td>\n",
       "    </tr>\n",
       "    <tr>\n",
       "      <th>1</th>\n",
       "      <td>71059973023428203</td>\n",
       "      <td>FEMALE</td>\n",
       "      <td>25.0</td>\n",
       "      <td>FEMALE</td>\n",
       "      <td>25.0</td>\n",
       "    </tr>\n",
       "    <tr>\n",
       "      <th>2</th>\n",
       "      <td>-6360016762317810524</td>\n",
       "      <td>NaN</td>\n",
       "      <td>NaN</td>\n",
       "      <td>NaN</td>\n",
       "      <td>0.0</td>\n",
       "    </tr>\n",
       "    <tr>\n",
       "      <th>3</th>\n",
       "      <td>-1426993141676116040</td>\n",
       "      <td>FEMALE</td>\n",
       "      <td>28.0</td>\n",
       "      <td>FEMALE</td>\n",
       "      <td>28.0</td>\n",
       "    </tr>\n",
       "    <tr>\n",
       "      <th>4</th>\n",
       "      <td>3819441980848568684</td>\n",
       "      <td>FEMALE</td>\n",
       "      <td>NaN</td>\n",
       "      <td>FEMALE</td>\n",
       "      <td>0.0</td>\n",
       "    </tr>\n",
       "  </tbody>\n",
       "</table>\n",
       "</div>"
      ],
      "text/plain": [
       "            profile_id gender_x  age_x gender_y  age_y\n",
       "0   705421135523430100     MALE   47.0     MALE   47.0\n",
       "1    71059973023428203   FEMALE   25.0   FEMALE   25.0\n",
       "2 -6360016762317810524      NaN    NaN      NaN    0.0\n",
       "3 -1426993141676116040   FEMALE   28.0   FEMALE   28.0\n",
       "4  3819441980848568684   FEMALE    NaN   FEMALE    0.0"
      ]
     },
     "execution_count": 14,
     "metadata": {},
     "output_type": "execute_result"
    }
   ],
   "source": [
    "# inactive users means the age_y is NaN but age_x is a valid number, filter the records that age_y is NaN,\n",
    "# then caculate the average age_x. (the records may include the active users with age_x is NaN, but there is no difference\n",
    "# if we caculate the average age_x since the NaN value would be skipped)\n",
    "left_merge['age_y'] = left_merge['age_y'].replace(np.NaN, 0)\n",
    "left_merge.head()"
   ]
  },
  {
   "cell_type": "code",
   "execution_count": 15,
   "metadata": {
    "collapsed": false
   },
   "outputs": [
    {
     "name": "stdout",
     "output_type": "stream",
     "text": [
      "(68789, 5)\n"
     ]
    },
    {
     "data": {
      "text/html": [
       "<div>\n",
       "<table border=\"1\" class=\"dataframe\">\n",
       "  <thead>\n",
       "    <tr style=\"text-align: right;\">\n",
       "      <th></th>\n",
       "      <th>profile_id</th>\n",
       "      <th>gender_x</th>\n",
       "      <th>age_x</th>\n",
       "      <th>gender_y</th>\n",
       "      <th>age_y</th>\n",
       "    </tr>\n",
       "  </thead>\n",
       "  <tbody>\n",
       "    <tr>\n",
       "      <th>2</th>\n",
       "      <td>-6360016762317810524</td>\n",
       "      <td>NaN</td>\n",
       "      <td>NaN</td>\n",
       "      <td>NaN</td>\n",
       "      <td>0.0</td>\n",
       "    </tr>\n",
       "    <tr>\n",
       "      <th>4</th>\n",
       "      <td>3819441980848568684</td>\n",
       "      <td>FEMALE</td>\n",
       "      <td>NaN</td>\n",
       "      <td>FEMALE</td>\n",
       "      <td>0.0</td>\n",
       "    </tr>\n",
       "    <tr>\n",
       "      <th>5</th>\n",
       "      <td>5706645209230467809</td>\n",
       "      <td>MALE</td>\n",
       "      <td>NaN</td>\n",
       "      <td>MALE</td>\n",
       "      <td>0.0</td>\n",
       "    </tr>\n",
       "    <tr>\n",
       "      <th>6</th>\n",
       "      <td>-8653946008994869933</td>\n",
       "      <td>FEMALE</td>\n",
       "      <td>NaN</td>\n",
       "      <td>FEMALE</td>\n",
       "      <td>0.0</td>\n",
       "    </tr>\n",
       "    <tr>\n",
       "      <th>8</th>\n",
       "      <td>-2497127249331825124</td>\n",
       "      <td>MALE</td>\n",
       "      <td>NaN</td>\n",
       "      <td>MALE</td>\n",
       "      <td>0.0</td>\n",
       "    </tr>\n",
       "  </tbody>\n",
       "</table>\n",
       "</div>"
      ],
      "text/plain": [
       "            profile_id gender_x  age_x gender_y  age_y\n",
       "2 -6360016762317810524      NaN    NaN      NaN    0.0\n",
       "4  3819441980848568684   FEMALE    NaN   FEMALE    0.0\n",
       "5  5706645209230467809     MALE    NaN     MALE    0.0\n",
       "6 -8653946008994869933   FEMALE    NaN   FEMALE    0.0\n",
       "8 -2497127249331825124     MALE    NaN     MALE    0.0"
      ]
     },
     "execution_count": 15,
     "metadata": {},
     "output_type": "execute_result"
    }
   ],
   "source": [
    "inactive_user = left_merge[left_merge['age_y'] == 0]\n",
    "print inactive_user.shape\n",
    "inactive_user.head()"
   ]
  },
  {
   "cell_type": "code",
   "execution_count": 16,
   "metadata": {
    "collapsed": false
   },
   "outputs": [
    {
     "data": {
      "text/plain": [
       "39.25019409937888"
      ]
     },
     "execution_count": 16,
     "metadata": {},
     "output_type": "execute_result"
    }
   ],
   "source": [
    "inactive_user.age_x.mean()"
   ]
  },
  {
   "cell_type": "markdown",
   "metadata": {},
   "source": [
    "#### Q2 the average age of inactive users is 39.25019409937888"
   ]
  },
  {
   "cell_type": "markdown",
   "metadata": {},
   "source": [
    "#### To see if the "
   ]
  },
  {
   "cell_type": "code",
   "execution_count": 17,
   "metadata": {
    "collapsed": true
   },
   "outputs": [],
   "source": [
    "# load the artist info\n",
    "df_art = pd.read_table(dir_data_artists, header = 0)"
   ]
  },
  {
   "cell_type": "code",
   "execution_count": null,
   "metadata": {
    "collapsed": true
   },
   "outputs": [],
   "source": []
  },
  {
   "cell_type": "code",
   "execution_count": 18,
   "metadata": {
    "collapsed": false
   },
   "outputs": [
    {
     "data": {
      "text/html": [
       "<div>\n",
       "<table border=\"1\" class=\"dataframe\">\n",
       "  <thead>\n",
       "    <tr style=\"text-align: right;\">\n",
       "      <th></th>\n",
       "      <th>artist_id</th>\n",
       "      <th>artist_name</th>\n",
       "      <th>genre</th>\n",
       "    </tr>\n",
       "  </thead>\n",
       "  <tbody>\n",
       "    <tr>\n",
       "      <th>0</th>\n",
       "      <td>456482266</td>\n",
       "      <td>Pink Floyd</td>\n",
       "      <td>Rock</td>\n",
       "    </tr>\n",
       "    <tr>\n",
       "      <th>1</th>\n",
       "      <td>-1983219508</td>\n",
       "      <td>50 Cent</td>\n",
       "      <td>Rap</td>\n",
       "    </tr>\n",
       "    <tr>\n",
       "      <th>2</th>\n",
       "      <td>1782199977</td>\n",
       "      <td>Waylon Jennings</td>\n",
       "      <td>Country</td>\n",
       "    </tr>\n",
       "    <tr>\n",
       "      <th>3</th>\n",
       "      <td>-74182863</td>\n",
       "      <td>John Denver</td>\n",
       "      <td>Pop</td>\n",
       "    </tr>\n",
       "    <tr>\n",
       "      <th>4</th>\n",
       "      <td>2044171169</td>\n",
       "      <td>The Beatles</td>\n",
       "      <td>Rock</td>\n",
       "    </tr>\n",
       "  </tbody>\n",
       "</table>\n",
       "</div>"
      ],
      "text/plain": [
       "    artist_id      artist_name    genre\n",
       "0   456482266       Pink Floyd     Rock\n",
       "1 -1983219508          50 Cent      Rap\n",
       "2  1782199977  Waylon Jennings  Country\n",
       "3   -74182863      John Denver      Pop\n",
       "4  2044171169      The Beatles     Rock"
      ]
     },
     "execution_count": 18,
     "metadata": {},
     "output_type": "execute_result"
    }
   ],
   "source": [
    "df_art.shape\n",
    "df_art.head()"
   ]
  },
  {
   "cell_type": "code",
   "execution_count": 19,
   "metadata": {
    "collapsed": false
   },
   "outputs": [
    {
     "data": {
      "text/html": [
       "<div>\n",
       "<table border=\"1\" class=\"dataframe\">\n",
       "  <thead>\n",
       "    <tr style=\"text-align: right;\">\n",
       "      <th></th>\n",
       "      <th>artist_id</th>\n",
       "      <th>artist_name</th>\n",
       "      <th>genre</th>\n",
       "      <th>profile_id</th>\n",
       "      <th>listen_date</th>\n",
       "      <th>tracks_listened_to</th>\n",
       "    </tr>\n",
       "  </thead>\n",
       "  <tbody>\n",
       "    <tr>\n",
       "      <th>0</th>\n",
       "      <td>456482266</td>\n",
       "      <td>Pink Floyd</td>\n",
       "      <td>Rock</td>\n",
       "      <td>-4452076574699357200</td>\n",
       "      <td>2015-03-20</td>\n",
       "      <td>11</td>\n",
       "    </tr>\n",
       "    <tr>\n",
       "      <th>1</th>\n",
       "      <td>456482266</td>\n",
       "      <td>Pink Floyd</td>\n",
       "      <td>Rock</td>\n",
       "      <td>5748531566483282504</td>\n",
       "      <td>2015-03-29</td>\n",
       "      <td>17</td>\n",
       "    </tr>\n",
       "    <tr>\n",
       "      <th>2</th>\n",
       "      <td>456482266</td>\n",
       "      <td>Pink Floyd</td>\n",
       "      <td>Rock</td>\n",
       "      <td>-3572125348077440565</td>\n",
       "      <td>2015-03-16</td>\n",
       "      <td>1</td>\n",
       "    </tr>\n",
       "    <tr>\n",
       "      <th>3</th>\n",
       "      <td>456482266</td>\n",
       "      <td>Pink Floyd</td>\n",
       "      <td>Rock</td>\n",
       "      <td>5725473588886762780</td>\n",
       "      <td>2015-03-22</td>\n",
       "      <td>22</td>\n",
       "    </tr>\n",
       "    <tr>\n",
       "      <th>4</th>\n",
       "      <td>456482266</td>\n",
       "      <td>Pink Floyd</td>\n",
       "      <td>Rock</td>\n",
       "      <td>-2430749524888416278</td>\n",
       "      <td>2015-03-25</td>\n",
       "      <td>16</td>\n",
       "    </tr>\n",
       "  </tbody>\n",
       "</table>\n",
       "</div>"
      ],
      "text/plain": [
       "   artist_id artist_name genre           profile_id listen_date  \\\n",
       "0  456482266  Pink Floyd  Rock -4452076574699357200  2015-03-20   \n",
       "1  456482266  Pink Floyd  Rock  5748531566483282504  2015-03-29   \n",
       "2  456482266  Pink Floyd  Rock -3572125348077440565  2015-03-16   \n",
       "3  456482266  Pink Floyd  Rock  5725473588886762780  2015-03-22   \n",
       "4  456482266  Pink Floyd  Rock -2430749524888416278  2015-03-25   \n",
       "\n",
       "   tracks_listened_to  \n",
       "0                  11  \n",
       "1                  17  \n",
       "2                   1  \n",
       "3                  22  \n",
       "4                  16  "
      ]
     },
     "execution_count": 19,
     "metadata": {},
     "output_type": "execute_result"
    }
   ],
   "source": [
    "# join the user, artist and listens table\n",
    "merged1 = pd.merge(df_art, df_listens, on = 'artist_id',how = 'inner')\n",
    "merged1.head()"
   ]
  },
  {
   "cell_type": "code",
   "execution_count": 20,
   "metadata": {
    "collapsed": false
   },
   "outputs": [
    {
     "data": {
      "text/html": [
       "<div>\n",
       "<table border=\"1\" class=\"dataframe\">\n",
       "  <thead>\n",
       "    <tr style=\"text-align: right;\">\n",
       "      <th></th>\n",
       "      <th>artist_id</th>\n",
       "      <th>artist_name</th>\n",
       "      <th>genre</th>\n",
       "      <th>profile_id</th>\n",
       "      <th>listen_date</th>\n",
       "      <th>tracks_listened_to</th>\n",
       "      <th>gender</th>\n",
       "      <th>age</th>\n",
       "    </tr>\n",
       "  </thead>\n",
       "  <tbody>\n",
       "    <tr>\n",
       "      <th>0</th>\n",
       "      <td>456482266</td>\n",
       "      <td>Pink Floyd</td>\n",
       "      <td>Rock</td>\n",
       "      <td>-4452076574699357200</td>\n",
       "      <td>2015-03-20</td>\n",
       "      <td>11</td>\n",
       "      <td>MALE</td>\n",
       "      <td>46.0</td>\n",
       "    </tr>\n",
       "    <tr>\n",
       "      <th>1</th>\n",
       "      <td>456482266</td>\n",
       "      <td>Pink Floyd</td>\n",
       "      <td>Rock</td>\n",
       "      <td>-4452076574699357200</td>\n",
       "      <td>2015-03-07</td>\n",
       "      <td>2</td>\n",
       "      <td>MALE</td>\n",
       "      <td>46.0</td>\n",
       "    </tr>\n",
       "    <tr>\n",
       "      <th>2</th>\n",
       "      <td>1255226480</td>\n",
       "      <td>Elvis Presley</td>\n",
       "      <td>Country</td>\n",
       "      <td>-4452076574699357200</td>\n",
       "      <td>2015-03-09</td>\n",
       "      <td>14</td>\n",
       "      <td>MALE</td>\n",
       "      <td>46.0</td>\n",
       "    </tr>\n",
       "    <tr>\n",
       "      <th>3</th>\n",
       "      <td>1255226480</td>\n",
       "      <td>Elvis Presley</td>\n",
       "      <td>Country</td>\n",
       "      <td>-4452076574699357200</td>\n",
       "      <td>2015-03-19</td>\n",
       "      <td>2</td>\n",
       "      <td>MALE</td>\n",
       "      <td>46.0</td>\n",
       "    </tr>\n",
       "    <tr>\n",
       "      <th>4</th>\n",
       "      <td>1255226480</td>\n",
       "      <td>Elvis Presley</td>\n",
       "      <td>Country</td>\n",
       "      <td>-4452076574699357200</td>\n",
       "      <td>2015-03-20</td>\n",
       "      <td>3</td>\n",
       "      <td>MALE</td>\n",
       "      <td>46.0</td>\n",
       "    </tr>\n",
       "  </tbody>\n",
       "</table>\n",
       "</div>"
      ],
      "text/plain": [
       "    artist_id    artist_name    genre           profile_id listen_date  \\\n",
       "0   456482266     Pink Floyd     Rock -4452076574699357200  2015-03-20   \n",
       "1   456482266     Pink Floyd     Rock -4452076574699357200  2015-03-07   \n",
       "2  1255226480  Elvis Presley  Country -4452076574699357200  2015-03-09   \n",
       "3  1255226480  Elvis Presley  Country -4452076574699357200  2015-03-19   \n",
       "4  1255226480  Elvis Presley  Country -4452076574699357200  2015-03-20   \n",
       "\n",
       "   tracks_listened_to gender   age  \n",
       "0                  11   MALE  46.0  \n",
       "1                   2   MALE  46.0  \n",
       "2                  14   MALE  46.0  \n",
       "3                   2   MALE  46.0  \n",
       "4                   3   MALE  46.0  "
      ]
     },
     "execution_count": 20,
     "metadata": {},
     "output_type": "execute_result"
    }
   ],
   "source": [
    "merged2 = pd.merge(merged1, df_user, on = 'profile_id', how = 'inner')\n",
    "merged2.head()"
   ]
  },
  {
   "cell_type": "code",
   "execution_count": 21,
   "metadata": {
    "collapsed": false
   },
   "outputs": [
    {
     "data": {
      "text/plain": [
       "Pop              383966\n",
       "Rap              336168\n",
       "Rock             302072\n",
       "R&B              281989\n",
       "Country          218481\n",
       "Latin             57653\n",
       "Religious         42669\n",
       "Electronic        28563\n",
       "Reggae             9016\n",
       "Folk               5808\n",
       "Vocal              5648\n",
       "Blues              5346\n",
       "International      4486\n",
       "Jazz               3853\n",
       "Children's         3339\n",
       "Classical          2253\n",
       "New Age            1567\n",
       "Comedy/Spoken      1144\n",
       "Name: genre, dtype: int64"
      ]
     },
     "execution_count": 21,
     "metadata": {},
     "output_type": "execute_result"
    }
   ],
   "source": [
    "#find the top 10 genre\n",
    "merged2['genre'].value_counts()"
   ]
  },
  {
   "cell_type": "code",
   "execution_count": 22,
   "metadata": {
    "collapsed": false
   },
   "outputs": [
    {
     "data": {
      "text/html": [
       "<div>\n",
       "<table border=\"1\" class=\"dataframe\">\n",
       "  <thead>\n",
       "    <tr style=\"text-align: right;\">\n",
       "      <th></th>\n",
       "      <th>artist_id</th>\n",
       "      <th>artist_name</th>\n",
       "      <th>genre</th>\n",
       "      <th>profile_id</th>\n",
       "      <th>listen_date</th>\n",
       "      <th>tracks_listened_to</th>\n",
       "      <th>gender</th>\n",
       "      <th>age</th>\n",
       "    </tr>\n",
       "  </thead>\n",
       "  <tbody>\n",
       "    <tr>\n",
       "      <th>0</th>\n",
       "      <td>456482266</td>\n",
       "      <td>Pink Floyd</td>\n",
       "      <td>Rock</td>\n",
       "      <td>-4452076574699357200</td>\n",
       "      <td>2015-03-20</td>\n",
       "      <td>11</td>\n",
       "      <td>MALE</td>\n",
       "      <td>46.0</td>\n",
       "    </tr>\n",
       "    <tr>\n",
       "      <th>1</th>\n",
       "      <td>456482266</td>\n",
       "      <td>Pink Floyd</td>\n",
       "      <td>Rock</td>\n",
       "      <td>-4452076574699357200</td>\n",
       "      <td>2015-03-07</td>\n",
       "      <td>2</td>\n",
       "      <td>MALE</td>\n",
       "      <td>46.0</td>\n",
       "    </tr>\n",
       "    <tr>\n",
       "      <th>2</th>\n",
       "      <td>1255226480</td>\n",
       "      <td>Elvis Presley</td>\n",
       "      <td>Country</td>\n",
       "      <td>-4452076574699357200</td>\n",
       "      <td>2015-03-09</td>\n",
       "      <td>14</td>\n",
       "      <td>MALE</td>\n",
       "      <td>46.0</td>\n",
       "    </tr>\n",
       "    <tr>\n",
       "      <th>3</th>\n",
       "      <td>1255226480</td>\n",
       "      <td>Elvis Presley</td>\n",
       "      <td>Country</td>\n",
       "      <td>-4452076574699357200</td>\n",
       "      <td>2015-03-19</td>\n",
       "      <td>2</td>\n",
       "      <td>MALE</td>\n",
       "      <td>46.0</td>\n",
       "    </tr>\n",
       "    <tr>\n",
       "      <th>4</th>\n",
       "      <td>1255226480</td>\n",
       "      <td>Elvis Presley</td>\n",
       "      <td>Country</td>\n",
       "      <td>-4452076574699357200</td>\n",
       "      <td>2015-03-20</td>\n",
       "      <td>3</td>\n",
       "      <td>MALE</td>\n",
       "      <td>46.0</td>\n",
       "    </tr>\n",
       "  </tbody>\n",
       "</table>\n",
       "</div>"
      ],
      "text/plain": [
       "    artist_id    artist_name    genre           profile_id listen_date  \\\n",
       "0   456482266     Pink Floyd     Rock -4452076574699357200  2015-03-20   \n",
       "1   456482266     Pink Floyd     Rock -4452076574699357200  2015-03-07   \n",
       "2  1255226480  Elvis Presley  Country -4452076574699357200  2015-03-09   \n",
       "3  1255226480  Elvis Presley  Country -4452076574699357200  2015-03-19   \n",
       "4  1255226480  Elvis Presley  Country -4452076574699357200  2015-03-20   \n",
       "\n",
       "   tracks_listened_to gender   age  \n",
       "0                  11   MALE  46.0  \n",
       "1                   2   MALE  46.0  \n",
       "2                  14   MALE  46.0  \n",
       "3                   2   MALE  46.0  \n",
       "4                   3   MALE  46.0  "
      ]
     },
     "execution_count": 22,
     "metadata": {},
     "output_type": "execute_result"
    }
   ],
   "source": [
    "# create the dataframe that only include the top 10 genre \n",
    "df0 = merged2[merged2['genre'].isin(['Pop','Rap','Rock','R&B','Country',\\\n",
    "                                     'Latin','Religious','Electronic','Reggae','Folk'])]\n",
    "df0.head()"
   ]
  },
  {
   "cell_type": "code",
   "execution_count": 23,
   "metadata": {
    "collapsed": false
   },
   "outputs": [
    {
     "data": {
      "text/html": [
       "<div>\n",
       "<table border=\"1\" class=\"dataframe\">\n",
       "  <thead>\n",
       "    <tr style=\"text-align: right;\">\n",
       "      <th></th>\n",
       "      <th>genre</th>\n",
       "      <th>age</th>\n",
       "      <th>gender</th>\n",
       "    </tr>\n",
       "  </thead>\n",
       "  <tbody>\n",
       "    <tr>\n",
       "      <th>0</th>\n",
       "      <td>Rock</td>\n",
       "      <td>46.0</td>\n",
       "      <td>MALE</td>\n",
       "    </tr>\n",
       "    <tr>\n",
       "      <th>1</th>\n",
       "      <td>Rock</td>\n",
       "      <td>46.0</td>\n",
       "      <td>MALE</td>\n",
       "    </tr>\n",
       "    <tr>\n",
       "      <th>2</th>\n",
       "      <td>Country</td>\n",
       "      <td>46.0</td>\n",
       "      <td>MALE</td>\n",
       "    </tr>\n",
       "    <tr>\n",
       "      <th>3</th>\n",
       "      <td>Country</td>\n",
       "      <td>46.0</td>\n",
       "      <td>MALE</td>\n",
       "    </tr>\n",
       "    <tr>\n",
       "      <th>4</th>\n",
       "      <td>Country</td>\n",
       "      <td>46.0</td>\n",
       "      <td>MALE</td>\n",
       "    </tr>\n",
       "  </tbody>\n",
       "</table>\n",
       "</div>"
      ],
      "text/plain": [
       "     genre   age gender\n",
       "0     Rock  46.0   MALE\n",
       "1     Rock  46.0   MALE\n",
       "2  Country  46.0   MALE\n",
       "3  Country  46.0   MALE\n",
       "4  Country  46.0   MALE"
      ]
     },
     "execution_count": 23,
     "metadata": {},
     "output_type": "execute_result"
    }
   ],
   "source": [
    "# only include the genre, age, gender column\n",
    "df_new = df0.loc[: ,['genre','age','gender']]\n",
    "df_new.head()"
   ]
  },
  {
   "cell_type": "markdown",
   "metadata": {},
   "source": [
    "#### find the relation between genre VS age, genre gender"
   ]
  },
  {
   "cell_type": "code",
   "execution_count": 24,
   "metadata": {
    "collapsed": true
   },
   "outputs": [],
   "source": [
    "import seaborn as sns"
   ]
  },
  {
   "cell_type": "code",
   "execution_count": 25,
   "metadata": {
    "collapsed": false
   },
   "outputs": [
    {
     "data": {
      "text/plain": [
       "<matplotlib.axes._subplots.AxesSubplot at 0x11cf15790>"
      ]
     },
     "execution_count": 25,
     "metadata": {},
     "output_type": "execute_result"
    },
    {
     "data": {
      "image/png": "[encoded data removed]",
      "text/plain": [
       "<matplotlib.figure.Figure at 0x11cea6b50>"
      ]
     },
     "metadata": {},
     "output_type": "display_data"
    }
   ],
   "source": [
    "# show the number of male users and female users for every genre\n",
    "sns.countplot(x=\"genre\", hue = 'gender', data=df_new)"
   ]
  },
  {
   "cell_type": "markdown",
   "metadata": {},
   "source": [
    "#### For example, there are about 170000 male users and 90000 female users for Rock"
   ]
  },
  {
   "cell_type": "code",
   "execution_count": 26,
   "metadata": {
    "collapsed": false
   },
   "outputs": [
    {
     "data": {
      "text/html": [
       "<div>\n",
       "<table border=\"1\" class=\"dataframe\">\n",
       "  <thead>\n",
       "    <tr style=\"text-align: right;\">\n",
       "      <th></th>\n",
       "      <th>genre</th>\n",
       "      <th>age</th>\n",
       "      <th>gender</th>\n",
       "      <th>categories</th>\n",
       "    </tr>\n",
       "  </thead>\n",
       "  <tbody>\n",
       "    <tr>\n",
       "      <th>0</th>\n",
       "      <td>Rock</td>\n",
       "      <td>46.0</td>\n",
       "      <td>MALE</td>\n",
       "      <td>35-50</td>\n",
       "    </tr>\n",
       "    <tr>\n",
       "      <th>1</th>\n",
       "      <td>Rock</td>\n",
       "      <td>46.0</td>\n",
       "      <td>MALE</td>\n",
       "      <td>35-50</td>\n",
       "    </tr>\n",
       "    <tr>\n",
       "      <th>2</th>\n",
       "      <td>Country</td>\n",
       "      <td>46.0</td>\n",
       "      <td>MALE</td>\n",
       "      <td>35-50</td>\n",
       "    </tr>\n",
       "    <tr>\n",
       "      <th>3</th>\n",
       "      <td>Country</td>\n",
       "      <td>46.0</td>\n",
       "      <td>MALE</td>\n",
       "      <td>35-50</td>\n",
       "    </tr>\n",
       "    <tr>\n",
       "      <th>4</th>\n",
       "      <td>Country</td>\n",
       "      <td>46.0</td>\n",
       "      <td>MALE</td>\n",
       "      <td>35-50</td>\n",
       "    </tr>\n",
       "  </tbody>\n",
       "</table>\n",
       "</div>"
      ],
      "text/plain": [
       "     genre   age gender categories\n",
       "0     Rock  46.0   MALE      35-50\n",
       "1     Rock  46.0   MALE      35-50\n",
       "2  Country  46.0   MALE      35-50\n",
       "3  Country  46.0   MALE      35-50\n",
       "4  Country  46.0   MALE      35-50"
      ]
     },
     "execution_count": 26,
     "metadata": {},
     "output_type": "execute_result"
    }
   ],
   "source": [
    "# to see age distribution for every genre, first range the ages into\n",
    "# certain age group(0-15, 15- 30 and so on)\n",
    "bins = [0,18,35,50,65,80,100]\n",
    "group_names = ['0-18','18-35','35-50','50-65','65-80','80-100']\n",
    "\n",
    "categories = pd.cut(df_new['age'].dropna(), bins, labels = group_names)\n",
    "df_new['categories'] = pd.cut(df_new['age'], bins, labels = group_names)\n",
    "\n",
    "df_new.head()"
   ]
  },
  {
   "cell_type": "code",
   "execution_count": 27,
   "metadata": {
    "collapsed": false
   },
   "outputs": [
    {
     "data": {
      "text/plain": [
       "<matplotlib.axes._subplots.AxesSubplot at 0x11d0ee810>"
      ]
     },
     "execution_count": 27,
     "metadata": {},
     "output_type": "execute_result"
    },
    {
     "data": {
      "image/png": "[encoded data removed]",
      "text/plain": [
       "<matplotlib.figure.Figure at 0x11cea6cd0>"
      ]
     },
     "metadata": {},
     "output_type": "display_data"
    }
   ],
   "source": [
    "# now show the age group distribution \n",
    "dims = (18, 6.)\n",
    "fig, ax = plt.subplots(figsize=dims)\n",
    "sns.countplot(ax = ax, x ='genre', hue = 'categories', data =df_new)"
   ]
  },
  {
   "cell_type": "markdown",
   "metadata": {},
   "source": [
    "#### For Rock, there are about 90000 users are aged 18-35 ,20000 users are aged 50-65 and 75000 users are aged 35-50"
   ]
  },
  {
   "cell_type": "code",
   "execution_count": 28,
   "metadata": {
    "collapsed": false
   },
   "outputs": [
    {
     "data": {
      "text/plain": [
       "<matplotlib.axes._subplots.AxesSubplot at 0x117f51d10>"
      ]
     },
     "execution_count": 28,
     "metadata": {},
     "output_type": "execute_result"
    },
    {
     "data": {
      "image/png": "[encoded data removed]",
      "text/plain": [
       "<matplotlib.figure.Figure at 0x117c3e450>"
      ]
     },
     "metadata": {},
     "output_type": "display_data"
    }
   ],
   "source": [
    "# show the age and gender distribution for each type of genre\n",
    "sns.boxplot(x = 'genre', y = 'age',hue = 'gender',width = .8, linewidth = .6, data = df_new)"
   ]
  },
  {
   "cell_type": "markdown",
   "metadata": {},
   "source": [
    "#### For each boxplot, the middle line in the box is the median value of the dataset. We mark this value as Q2 \n",
    "#### The bottom line and the top line of the box indicate the median value below Q2 and above Q2. The two values are marked as Q1 and Q3. We say the length of the box is called 'interquartile range' or IQR, which equals to Q3 - Q1.\n",
    "#### The values for Q1 – 1.5×IQR and Q3 + 1.5×IQR are the \"fences\" that mark off the \"reasonable\" values from the outlier values. Outliers lie outside the fences.\n",
    "#### The bottom whisker and top whisker is the minimum and maximum value within the ‘fences’  \n",
    "\n",
    "#### Now let's look at the Rock in the picture.  The minimum age of male users is about 19. The maximum age of the male users is about 94. The median age of the male users is about 37. And the median value above 37 is about 44 and median value below 37 is 28.  \n"
   ]
  },
  {
   "cell_type": "code",
   "execution_count": 29,
   "metadata": {
    "collapsed": false
   },
   "outputs": [
    {
     "data": {
      "text/plain": [
       "<matplotlib.axes._subplots.AxesSubplot at 0x12154c810>"
      ]
     },
     "execution_count": 29,
     "metadata": {},
     "output_type": "execute_result"
    },
    {
     "data": {
      "image/png": "[encoded data removed]",
      "text/plain": [
       "<matplotlib.figure.Figure at 0x121574190>"
      ]
     },
     "metadata": {},
     "output_type": "display_data"
    }
   ],
   "source": [
    "# show the age and gender density for every type of genre\n",
    "a4_dims = (12, 8.)\n",
    "fig, ax = plt.subplots(figsize=a4_dims)\n",
    "sns.violinplot(ax=ax, x=\"genre\", y=\"age\",hue = 'gender', data=df_new,width = 1.0, \\\n",
    "               split = True,linewidth = 0.8,scale ='count', inner = 'quartile')"
   ]
  },
  {
   "cell_type": "markdown",
   "metadata": {},
   "source": [
    "#### This approach uses the kernel density estimate to provide a better description of the distribution of values. And the three lines within the violin are the quariles(Q1, Q2, Q3 ) in the boxplot. The violin width is scaled by the number of observations.  So we can see that the most frequency age of male user is roughly 37 and 38  for the Rock."
   ]
  },
  {
   "cell_type": "code",
   "execution_count": 30,
   "metadata": {
    "collapsed": false
   },
   "outputs": [
    {
     "data": {
      "text/plain": [
       "<matplotlib.axes._subplots.AxesSubplot at 0x120d03490>"
      ]
     },
     "execution_count": 30,
     "metadata": {},
     "output_type": "execute_result"
    },
    {
     "data": {
      "image/png": "[encoded data removed]",
      "text/plain": [
       "<matplotlib.figure.Figure at 0x117bbce10>"
      ]
     },
     "metadata": {},
     "output_type": "display_data"
    }
   ],
   "source": [
    "# this approach shows the mean value of male users and female users for every type of genre.\n",
    "# the first two bars indicate the mean age of male users and female users are 37 and 34\n",
    "\n",
    "sns.barplot(x=\"genre\", y=\"age\", hue=\"gender\", data = df_new)"
   ]
  },
  {
   "cell_type": "code",
   "execution_count": 31,
   "metadata": {
    "collapsed": false
   },
   "outputs": [
    {
     "data": {
      "image/png": "[encoded data removed]",
      "text/plain": [
       "<matplotlib.figure.Figure at 0x121574910>"
      ]
     },
     "metadata": {},
     "output_type": "display_data"
    }
   ],
   "source": [
    "# show the mean value for every genre .\n",
    "# The first bar indicates the mean age is 36 for Rock.\n",
    "sns.barplot(x=\"genre\", y=\"age\", data=df_new);"
   ]
  },
  {
   "cell_type": "code",
   "execution_count": null,
   "metadata": {
    "collapsed": true
   },
   "outputs": [],
   "source": []
  },
  {
   "cell_type": "code",
   "execution_count": null,
   "metadata": {
    "collapsed": true
   },
   "outputs": [],
   "source": []
  },
  {
   "cell_type": "code",
   "execution_count": null,
   "metadata": {
    "collapsed": true
   },
   "outputs": [],
   "source": []
  },
  {
   "cell_type": "code",
   "execution_count": null,
   "metadata": {
    "collapsed": true
   },
   "outputs": [],
   "source": []
  },
  {
   "cell_type": "code",
   "execution_count": null,
   "metadata": {
    "collapsed": true
   },
   "outputs": [],
   "source": []
  },
  {
   "cell_type": "code",
   "execution_count": null,
   "metadata": {
    "collapsed": true
   },
   "outputs": [],
   "source": []
  }
 ],
 "metadata": {
  "anaconda-cloud": {},
  "kernelspec": {
   "display_name": "Python [Root]",
   "language": "python",
   "name": "Python [Root]"
  },
  "language_info": {
   "codemirror_mode": {
    "name": "ipython",
    "version": 2
   },
   "file_extension": ".py",
   "mimetype": "text/x-python",
   "name": "python",
   "nbconvert_exporter": "python",
   "pygments_lexer": "ipython2",
   "version": "2.7.11"
  }
 },
 "nbformat": 4,
 "nbformat_minor": 0
}
